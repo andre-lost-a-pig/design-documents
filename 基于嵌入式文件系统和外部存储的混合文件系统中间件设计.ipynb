{
 "cells": [
  {
   "cell_type": "markdown",
   "id": "349a01bb",
   "metadata": {},
   "source": [
    "# 基于嵌入式文件系统和外部存储的混合文件系统中间件设计"
   ]
  },
  {
   "cell_type": "markdown",
   "id": "2b9fab3a",
   "metadata": {},
   "source": [
    "## 1.目的"
   ]
  },
  {
   "cell_type": "markdown",
   "id": "5f2500b6",
   "metadata": {},
   "source": [
    "梳理软件设计，便于程序理解和维护。"
   ]
  },
  {
   "cell_type": "markdown",
   "id": "6fe5f81b",
   "metadata": {},
   "source": [
    "## 2.范围 "
   ]
  },
  {
   "cell_type": "markdown",
   "id": "19a704b0",
   "metadata": {},
   "source": [
    "  适用于乐舜D3110X及同类的网关产品。  "
   ]
  },
  {
   "cell_type": "markdown",
   "id": "5a7bb2cc",
   "metadata": {},
   "source": [
    "## 3.背景"
   ]
  },
  {
   "cell_type": "markdown",
   "id": "2dbde62d",
   "metadata": {},
   "source": [
    "嵌入式的文件系统通常无法存放较大的文件(0.5GB或以上)。当较大的配置文件需要保存在嵌入式设备中时，一般采用手动存储在外部存储(flash)的方式。这种文件系统和手动存储在外部存储的文件并存的情况会导致接口不统一，可理解、可移植性较差的问题。故引入混合文件系统中间件（以下简称中间件）的设计。"
   ]
  },
  {
   "cell_type": "markdown",
   "id": "2cadc37a",
   "metadata": {},
   "source": [
    "## 4.总体设计"
   ]
  },
  {
   "cell_type": "markdown",
   "id": "0a988ab0",
   "metadata": {},
   "source": [
    "混合文件系统中间件的设计采用面向对象的思想。定义了文件类file_t。"
   ]
  },
  {
   "cell_type": "code",
   "execution_count": null,
   "id": "f35649b2",
   "metadata": {},
   "outputs": [],
   "source": [
    "typedef struct _file_t file_t;\n",
    "struct _file_t\n",
    "{\n",
    "    // 成员函数声明\n",
    "    const file_backend_t *backend;\n",
    "    void *backend_data;\n",
    "};"
   ]
  },
  {
   "cell_type": "markdown",
   "id": "14054327",
   "metadata": {},
   "source": [
    "其中，backend_data是自定义数据指针，下面会详细说明。"
   ]
  },
  {
   "cell_type": "markdown",
   "id": "c8b511fc",
   "metadata": {},
   "source": [
    "根据文件类特性，抽象出文件操作接口。"
   ]
  },
  {
   "cell_type": "code",
   "execution_count": null,
   "id": "dad6cb02",
   "metadata": {},
   "outputs": [],
   "source": [
    "typedef struct _file_backend\n",
    "{\n",
    "    int32_t \t(*fseek) (file_t *file, int32_t offset, uint8_t opt);\t\t\t\t// 定位文件\n",
    "    int32_t \t(*fread) (file_t *file, uint8_t *buff, uint32_t size); \t\t\t\t// 读文件\n",
    "    int32_t \t(*fwrite) (file_t *file, uint8_t *buff, uint32_t size); \t\t\t// 写文件\n",
    "    int32_t \t(*fclose) (file_t *file); \t\t\t\t\t\t\t\t\t\t\t// 关闭文件\n",
    "} file_backend_t;"
   ]
  },
  {
   "cell_type": "markdown",
   "id": "14a97c5e",
   "metadata": {},
   "source": [
    "## 5.详细设计"
   ]
  },
  {
   "cell_type": "markdown",
   "id": "d2836bc6",
   "metadata": {},
   "source": [
    "### 5.1 对上层（应用层）接口设计"
   ]
  },
  {
   "cell_type": "markdown",
   "id": "cc899ffb",
   "metadata": {},
   "source": [
    "#### 5.1.1 open接口"
   ]
  },
  {
   "cell_type": "markdown",
   "id": "4c4b95f9",
   "metadata": {},
   "source": [
    "由于不同存储方式（文件系统、外部flash等）需要的输入参数不同，故初始化文件对象的函数（构造函数）也不相同。对上层（应用层）接口要根据文件名找到文件的存储类型，然后调用对应的构造函数获取文件对象。"
   ]
  },
  {
   "cell_type": "markdown",
   "id": "685705ef",
   "metadata": {},
   "source": [
    "文件映射表如下。"
   ]
  },
  {
   "cell_type": "code",
   "execution_count": null,
   "id": "fa7c82ac",
   "metadata": {},
   "outputs": [],
   "source": [
    "// 文件ID, 存储方式, flash首地址\n",
    "static int32_t g_config_file_map[LS_CONFIG_FILE_ID_MAX][3] = {\n",
    "\t{LS_CONFIG_FILE_NORTH_BIN, LS_FILE_SAVE_TYPE_EXTERNAL_FLASH, NORTH_BIN_START_ADDR},\n",
    "\t{LS_CONFIG_FILE_SOUTH_BIN, LS_FILE_SAVE_TYPE_EXTERNAL_FLASH, SOUTH_BIN_START_ADDR},\n",
    "\t{LS_CONFIG_FILE_NORTH_LINK_JSON, LS_FILE_SAVE_TYPE_FILE_SYSTEM, 0},\n",
    "\t{LS_CONFIG_FILE_SOUTH_BUS_JSON_1, LS_FILE_SAVE_TYPE_FILE_SYSTEM, 0},\n",
    "\t{LS_CONFIG_FILE_SOUTH_BUS_JSON_2, LS_FILE_SAVE_TYPE_FILE_SYSTEM, 0},\n",
    "};"
   ]
  },
  {
   "cell_type": "markdown",
   "id": "26a2fdd2",
   "metadata": {},
   "source": [
    "open接口如下。"
   ]
  },
  {
   "cell_type": "code",
   "execution_count": null,
   "id": "58d28cb3",
   "metadata": {},
   "outputs": [],
   "source": [
    "/*****************************************************************************\n",
    "* Function\t   : OpenFile()\n",
    "* Description  : 打开文件\n",
    "* Input \t   : pathname:\t带路径的文件名\n",
    "\t\t\t\t mode: \t\t打开文件选项\n",
    "* Output\t   : None\n",
    "* Return\t   : file_t *\t打开成功，此为该文件句柄\n",
    "\t\t\t\t NULL\t\t打开失败\n",
    "* Note(s)\t   :\n",
    "* Contributor  : 2021年6月8日        Andre\n",
    "*****************************************************************************/\n",
    "file_t *LS_FileOpen(const int8_t *pathname, uint32_t mode)\n",
    "{\n",
    "\tint32_t file_id, i;\n",
    "\tfile_t *file = NULL;\n",
    "\n",
    "\tif(pathname == NULL)\n",
    "\t\treturn NULL;\n",
    "\t\n",
    "\tfile_id = LS_FileGetID(pathname);\n",
    "\tif(file_id < 0)\n",
    "\t\treturn NULL;\n",
    "\t\n",
    "\t//根据存储方式调用不同处理方法\n",
    "\tfor(i=0;i<LS_CONFIG_FILE_ID_MAX;i++)\n",
    "\t{\n",
    "\t\tif(file_id == g_config_file_map[i][0])\n",
    "\t\t{\n",
    "\t\t\tif(g_config_file_map[i][1] == LS_FILE_SAVE_TYPE_FILE_SYSTEM)\n",
    "\t\t\t\tfile = LS_FileOpenFibo(pathname, mode); \t\t\t\n",
    "\t\t\telse if(g_config_file_map[i][1] == LS_FILE_SAVE_TYPE_EXTERNAL_FLASH)\n",
    "\t\t\t\tfile = LS_FileOpenFlash(pathname, mode, g_config_file_map[i][2]);\n",
    "\t\t\telse\n",
    "\t\t\t\tLog_e(\"file %s save type:%d error!\", pathname, g_config_file_map[i][1]);\n",
    "\t\t}\n",
    "\t}\n",
    "\t\n",
    "\treturn file;\n",
    "}"
   ]
  },
  {
   "cell_type": "markdown",
   "id": "6741d574",
   "metadata": {},
   "source": [
    "#### 5.1.2 seek/read/write/close接口"
   ]
  },
  {
   "cell_type": "markdown",
   "id": "3dd186a2",
   "metadata": {},
   "source": [
    "这四个接口直接调用文件对象自身的对应方法即可。以read为例。"
   ]
  },
  {
   "cell_type": "code",
   "execution_count": null,
   "id": "c510db58",
   "metadata": {},
   "outputs": [],
   "source": [
    "/*****************************************************************************\n",
    "* Function\t   : LS_FileRead()\n",
    "* Description  : 从打开文件的当前位置读出数据\n",
    "* Input \t   : file_t:\t文件对象\n",
    "\t\t\t\t buff: \t\t数据缓冲区指针\n",
    " \t\t\t\t size:\t\t数据缓冲区长度\n",
    "* Output\t   : None\n",
    "* Return\t   : >=0 \t\t读出的字节数\n",
    "\t\t\t\t <0 \t\t失败\n",
    "* Note(s)\t   :\n",
    "* Contributor  : 2021年7月2日        Andre\n",
    "*****************************************************************************/\n",
    "int32_t LS_FileRead(file_t *file, uint8_t *buff, uint32_t size)\n",
    "{\n",
    "\tif(file == NULL)\n",
    "\t\treturn -1;\n",
    "\t\n",
    "\tif(buff == NULL)\n",
    "\t\treturn -1;\n",
    "\t\n",
    "\treturn file->backend->fread(file, buff, size);\n",
    "}"
   ]
  },
  {
   "cell_type": "markdown",
   "id": "88b40014",
   "metadata": {},
   "source": [
    "#### 5.1.3 exist/getsize接口"
   ]
  },
  {
   "cell_type": "markdown",
   "id": "12889e0d",
   "metadata": {},
   "source": [
    "这两个接口的实现方式同open接口。没有在文件操作接口中集成的原因是：通常会在初始化文件对象的函数（open函数）之前调用这两个方法，而不是之后。所以这两个方法不属于文件对象file_t。这也是沿袭了大多数文件系统的做法。"
   ]
  },
  {
   "cell_type": "markdown",
   "id": "996104c9",
   "metadata": {},
   "source": [
    "这里只展示这两个函数头文件。"
   ]
  },
  {
   "cell_type": "code",
   "execution_count": null,
   "id": "a41356ec",
   "metadata": {},
   "outputs": [],
   "source": [
    "/*****************************************************************************\n",
    "* Function\t   : LS_FileExist()\n",
    "* Description  : 检测文件是否存在\n",
    "* Input \t   : pathname:\t带路径的文件名\n",
    "* Output\t   : None\n",
    "* Return\t   : 1 \t\t文件存在\n",
    "\t\t\t\t <0 \t文件不存在\n",
    "* Note(s)\t   :\n",
    "* Contributor  : 2021年7月2日        Andre\n",
    "*****************************************************************************/"
   ]
  },
  {
   "cell_type": "code",
   "execution_count": null,
   "id": "606e244d",
   "metadata": {},
   "outputs": [],
   "source": [
    "/*****************************************************************************\n",
    "* Function\t   : LS_FileGetSize()\n",
    "* Description  : 获取文件大小\n",
    "* Input \t   : pathname:\t带路径的文件名\n",
    "* Output\t   : None\n",
    "* Return\t   : >=0 \t文件长度\n",
    "\t\t\t\t <0 \t操作失败\n",
    "* Note(s)\t   :\n",
    "* Contributor  : 2021年7月2日        Andre\n",
    "*****************************************************************************/"
   ]
  },
  {
   "cell_type": "markdown",
   "id": "d1e35d77",
   "metadata": {},
   "source": [
    "### 5.2 中间件对接原有文件系统设计"
   ]
  },
  {
   "cell_type": "markdown",
   "id": "312cc1d9",
   "metadata": {},
   "source": [
    "由于各文件系统之间大同小异,此处以广和通L610嵌入式文件系统为例。"
   ]
  },
  {
   "cell_type": "markdown",
   "id": "e4d0128b",
   "metadata": {},
   "source": [
    "#### 5.2.1 成员函数和自定义数据指针"
   ]
  },
  {
   "cell_type": "markdown",
   "id": "fe39194d",
   "metadata": {},
   "source": [
    "对于基于原有文件系统的文件对象，文件对象的成员函数就是原有文件系统的对应方法（函数）。"
   ]
  },
  {
   "cell_type": "code",
   "execution_count": null,
   "id": "bf8bc807",
   "metadata": {},
   "outputs": [],
   "source": [
    "const file_backend_t _file_system_fibo_backend = {\n",
    "\t_LS_FileSeekFibo,\n",
    "\t_LS_FileReadFibo,\n",
    "\t_LS_FileWriteFibo,\n",
    "\t_LS_FileCloseFibo\n",
    "};"
   ]
  },
  {
   "cell_type": "markdown",
   "id": "83e111de",
   "metadata": {},
   "source": [
    "文件对象的自定义数据指针指向用于存放文件描述符的地址空间。其内容如下。"
   ]
  },
  {
   "cell_type": "code",
   "execution_count": null,
   "id": "190048ba",
   "metadata": {},
   "outputs": [],
   "source": [
    "typedef struct _file_fibo\n",
    "{\n",
    "    int32_t fd;\t\t\t\t//广和通文件系统文件句柄\n",
    "} file_fibo_t;"
   ]
  },
  {
   "cell_type": "markdown",
   "id": "c982c1fd",
   "metadata": {},
   "source": [
    "#### 5.2.2 初始化文件对象的函数（构造函数）"
   ]
  },
  {
   "cell_type": "markdown",
   "id": "e01eda7a",
   "metadata": {},
   "source": [
    "由于混合文件系统中间件大多数的对上接口设计都是参考标准文件系统设计。所以构造函数只需要调用原有文件系统的构造函数,即open函数。并把原有文件系统的seek/read/write/close函数通过结构体数组的方式绑定到新申请文件对象的成员函数指针上。自定义数据指针指向用于存放文件描述符的地址空间。"
   ]
  },
  {
   "cell_type": "code",
   "execution_count": null,
   "id": "89d356d0",
   "metadata": {},
   "outputs": [],
   "source": [
    "/*****************************************************************************\n",
    "* Function\t   : LS_FileOpenFibo()\n",
    "* Description  : 打开文件-基于广和通文件系统\n",
    "* Input \t   : pathname:\t带路径的文件名\n",
    "\t\t\t\t mode: \t\t打开文件选项\n",
    "* Output\t   : None\n",
    "* Return\t   : file_t *\t打开（创建）成功，此为该文件句柄\n",
    "\t\t\t\t NULL\t\t创建失败\n",
    "* Note(s)\t   :\n",
    "* Contributor  : 2021年7月1日        Andre\n",
    "*****************************************************************************/\n",
    "file_t *LS_FileOpenFibo(const int8_t *pathname, uint32_t mode)\n",
    "{\n",
    "    file_t *file;\n",
    "\tfile_fibo_t *file_fibo;\n",
    "\n",
    "    file = (file_t *)fibo_malloc(sizeof(file_t));\n",
    "\tif(file == NULL)\n",
    "\t{\n",
    "\t\tLog_e(\"malloc fail\");\n",
    "\t\treturn NULL;\n",
    "\t}\n",
    "\n",
    "\tfile->backend = &_file_system_fibo_backend;\n",
    "    file->backend_data = (file_fibo_t *)fibo_malloc(sizeof(file_fibo_t));\n",
    "\tif(file->backend_data == NULL)\n",
    "\t{\n",
    "\t\tLog_e(\"malloc fail\");\n",
    "\t\tif(file != NULL) \n",
    "\t\t\tfibo_free((void *)file);\n",
    "\t\treturn NULL;\n",
    "\t}\n",
    "\tfile_fibo = (file_fibo_t *)file->backend_data;\n",
    "\tfile_fibo->fd = fibo_file_open(pathname, mode);\n",
    "\tif(file_fibo->fd < 0)\n",
    "\t{\n",
    "\t\tLog_e(\"open file %s failed!\", pathname);\n",
    "\t\tif(file->backend_data != NULL) \n",
    "\t\t\tfibo_free((void *)file->backend_data);\n",
    "\t\tif(file != NULL) \n",
    "\t\t\tfibo_free((void *)file);\n",
    "\t\treturn NULL;\t\t\n",
    "\t}\n",
    "\n",
    "\treturn file;\n",
    "}"
   ]
  },
  {
   "cell_type": "markdown",
   "id": "b882a229",
   "metadata": {},
   "source": [
    "#### 5.2.3 seek/read/write/close函数"
   ]
  },
  {
   "cell_type": "markdown",
   "id": "54cecb3b",
   "metadata": {},
   "source": [
    "直接调用原有文件系统的对应函数。以read为例。"
   ]
  },
  {
   "cell_type": "code",
   "execution_count": null,
   "id": "ab26f99d",
   "metadata": {},
   "outputs": [],
   "source": [
    "/*****************************************************************************\n",
    "* Function\t   : _LS_FileReadFibo()\n",
    "* Description  : 从打开文件的当前位置读出数据\n",
    "* Input \t   : file_t:\t文件对象\n",
    "\t\t\t\t buff: \t\t数据缓冲区指针\n",
    " \t\t\t\t size:\t\t数据缓冲区长度\n",
    "* Output\t   : None\n",
    "* Return\t   : >=0 \t\t读出的字节数\n",
    "\t\t\t\t <0 \t\t失败\n",
    "* Note(s)\t   :\n",
    "* Contributor  : 2021年7月2日        Andre\n",
    "*****************************************************************************/\n",
    "static int32_t _LS_FileReadFibo(file_t *file, uint8_t *buff, uint32_t size)\n",
    "{\n",
    "    int32_t i, ret;\n",
    "\tfile_fibo_t *file_fibo_data = file->backend_data;\n",
    "\n",
    "\tfor(i=0;i<size/FIBO_FILESYSTEM_MAX_READ_WRITE_SIZE;i++)\n",
    "\t{\n",
    "\t\tret = fibo_file_read(file_fibo_data->fd, buff+(i*FIBO_FILESYSTEM_MAX_READ_WRITE_SIZE), FIBO_FILESYSTEM_MAX_READ_WRITE_SIZE);\n",
    "\t\tif(ret < 0)\n",
    "\t\t{\n",
    "\t\t\tLog_e(\"fibo_file_read fail!\");\n",
    "\t\t\treturn -1;\n",
    "\t\t}\n",
    "\t}\n",
    "\tif(size%FIBO_FILESYSTEM_MAX_READ_WRITE_SIZE != 0)\n",
    "\t{\n",
    "\t\tret = fibo_file_read(file_fibo_data->fd, buff+(i*FIBO_FILESYSTEM_MAX_READ_WRITE_SIZE), size%FIBO_FILESYSTEM_MAX_READ_WRITE_SIZE);\n",
    "\t\tif(ret < 0)\n",
    "\t\t{\n",
    "\t\t\tLog_e(\"fibo_file_read fail!\");\n",
    "\t\t\treturn -1;\n",
    "\t\t}\n",
    "\t}\n",
    "\t\n",
    "\treturn size;\n",
    "}"
   ]
  },
  {
   "cell_type": "markdown",
   "id": "bb0efb1a",
   "metadata": {},
   "source": [
    "#### 5.2.4 exist/getsize函数"
   ]
  },
  {
   "cell_type": "markdown",
   "id": "e8a59a01",
   "metadata": {},
   "source": [
    "直接调用原有文件系统的对应函数。以exist为例。"
   ]
  },
  {
   "cell_type": "code",
   "execution_count": null,
   "id": "889e5a4f",
   "metadata": {},
   "outputs": [],
   "source": [
    "/*****************************************************************************\n",
    "* Function\t   : LS_FileExistFibo()\n",
    "* Description  : 检测文件是否存在-基于广和通文件系统\n",
    "* Input \t   : pathname:\t带路径的文件名\n",
    "* Output\t   : None\n",
    "* Return\t   : 1 \t\t文件存在\n",
    "\t\t\t\t <0 \t文件不存在\n",
    "* Note(s)\t   :\n",
    "* Contributor  : 2021年7月1日        Andre\n",
    "*****************************************************************************/\n",
    "int32_t LS_FileExistFibo(const int8_t *pathname)\n",
    "{\n",
    "\treturn fibo_file_exist(pathname);\n",
    "}"
   ]
  },
  {
   "cell_type": "markdown",
   "id": "519a5297",
   "metadata": {},
   "source": [
    "### 5.3 中间件对接外部存储设计"
   ]
  },
  {
   "cell_type": "markdown",
   "id": "9ccc1e63",
   "metadata": {},
   "source": [
    "这里以外部flash为例。外部flash相关驱动已具备。如果是其他存储介质，可以参照此设计进行移植。"
   ]
  },
  {
   "cell_type": "markdown",
   "id": "a5321ca3",
   "metadata": {},
   "source": [
    "#### 5.3.1 成员函数和自定义数据指针"
   ]
  },
  {
   "cell_type": "markdown",
   "id": "e7e6b54d",
   "metadata": {},
   "source": [
    "对于基于外部flash的文件对象，文件对象的成员函数是根据文件系统的原理设计的一系列外部flash操作集。"
   ]
  },
  {
   "cell_type": "code",
   "execution_count": null,
   "id": "916bbf7f",
   "metadata": {},
   "outputs": [],
   "source": [
    "const file_backend_t _file_system_flash_backend = {\n",
    "\t_LS_FileSeekFlash,\n",
    "\t_LS_FileReadFlash,\n",
    "\t_LS_FileWriteFlash,\n",
    "\t_LS_FileCloseFlash\n",
    "};"
   ]
  },
  {
   "cell_type": "markdown",
   "id": "d8140de7",
   "metadata": {},
   "source": [
    "文件对象的自定义数据指针指向的地址空间包括文件首地址，读写指针等相关参数。"
   ]
  },
  {
   "cell_type": "code",
   "execution_count": null,
   "id": "81be0d6e",
   "metadata": {},
   "outputs": [],
   "source": [
    "typedef struct _file_flash\n",
    "{\n",
    "    uint32_t\tfile_save_address;\t\t\t\t\t\t// 文件首地址\n",
    "    uint32_t \tfile_pointer_offset;\t\t\t\t\t// 文件读写指针\n",
    "    uint32_t \tfile_size;\t\t\t\t\t\t\t\t// 文件长度    \n",
    "} file_flash_t;"
   ]
  },
  {
   "cell_type": "markdown",
   "id": "7580c2cb",
   "metadata": {},
   "source": [
    "#### 5.3.2 初始化文件对象的函数（构造函数）"
   ]
  },
  {
   "cell_type": "markdown",
   "id": "6b1dadd1",
   "metadata": {},
   "source": [
    "基于外部flash文件对象的构造函数和基于原有文件系统文件对象的构造函数有相似之处。主要是把自己设计的seek/read/write/close函数通过结构体数组的方式绑定到新申请文件对象的成员函数指针上。自定义数据指针指向用于存放文件首地址，读写指针等相关参数的地址空间。"
   ]
  },
  {
   "cell_type": "code",
   "execution_count": null,
   "id": "c21ecf81",
   "metadata": {},
   "outputs": [],
   "source": [
    "/*****************************************************************************\n",
    "* Function\t   : LS_FileOpenFlash()\n",
    "* Description  : 打开文件-基于外部flash\n",
    "* Input \t   : pathname:\t\t文件名\n",
    "\t\t\t\t mode: \t\t\t打开文件选项\n",
    "\t\t\t\t save_address:\t文件首地址\n",
    "* Output\t   : None\n",
    "* Return\t   : file_t *\t打开（创建）成功，此为该文件句柄\n",
    "\t\t\t\t NULL\t\t创建失败\n",
    "* Note(s)\t   :\n",
    "* Contributor  : 2021年7月2日        Andre\n",
    "*****************************************************************************/\n",
    "file_t *LS_FileOpenFlash(const int8_t *pathname, uint32_t mode, uint32_t save_address)\n",
    "{\n",
    "    int32_t ret;\n",
    "\tfile_t *file;\n",
    "\tfile_flash_t *file_flash;\n",
    "\n",
    "    file = (file_t *)fibo_malloc(sizeof(file_t));\n",
    "\tif(file == NULL)\n",
    "\t{\n",
    "\t\tLog_e(\"fibo_malloc fail\");\n",
    "\t\treturn NULL;\n",
    "\t}\n",
    "\n",
    "\tfile->backend = &_file_system_flash_backend;\n",
    "    file->backend_data = (file_flash_t *)fibo_malloc(sizeof(file_flash_t));\n",
    "\tif(file->backend_data == NULL)\n",
    "\t{\n",
    "\t\tLog_e(\"fibo_malloc fail\");\n",
    "\t\tif(file != NULL) \n",
    "\t\t\tfibo_free((void *)file);\n",
    "\t\treturn NULL;\n",
    "\t}\n",
    "\tfile_flash = (file_flash_t *)file->backend_data;\n",
    "\tfile_flash->file_save_address = save_address;\n",
    "\tfile_flash->file_pointer_offset = 0;\t\t// 打开时指针默认在文件头\n",
    "\tret = LS_FileGetSizeFlash(pathname, save_address);\n",
    "\tif(ret < 0)\n",
    "\t{\n",
    "\t\tLog_e(\"LS_FileGetSizeFlash %s failed!\", pathname);\n",
    "\t\tif(file->backend_data != NULL) \n",
    "\t\t\tfibo_free((void *)file->backend_data);\n",
    "\t\tif(file != NULL) \n",
    "\t\t\tfibo_free((void *)file);\n",
    "\t\treturn NULL;\t\t\n",
    "\t}\n",
    "\telse\n",
    "\t\tfile_flash->file_size = ret;\n",
    "\n",
    "\treturn file;\n",
    "}"
   ]
  },
  {
   "cell_type": "markdown",
   "id": "ee150030",
   "metadata": {},
   "source": [
    "#### 5.2.3 seek/read/write/close函数"
   ]
  },
  {
   "cell_type": "markdown",
   "id": "97e38a4f",
   "metadata": {},
   "source": [
    "seek函数是把自定义数据中的读写指针移动到相应的位置。"
   ]
  },
  {
   "cell_type": "code",
   "execution_count": null,
   "id": "28982850",
   "metadata": {},
   "outputs": [],
   "source": [
    "/*****************************************************************************\n",
    "* Function\t   : _LS_FileSeekFlash()\n",
    "* Description  : 移动文件数据指针，并返回操作成功后的文件指针位置\n",
    "* Input \t   : file_t:\t文件对象\n",
    "\t\t\t\t offset: \t从文件开始的偏移\n",
    " \t\t\t\t opt:\t\t偏移的起始位置\n",
    "* Output\t   : None\n",
    "* Return\t   : >=0 \t\t返回操作成功后文件指针位置\n",
    "\t\t\t\t <0 \t\t失败\n",
    "* Note(s)\t   :\n",
    "* Contributor  : 2021年7月2日        Andre\n",
    "*****************************************************************************/\n",
    "static int32_t _LS_FileSeekFlash(file_t *file, int32_t offset, uint8_t opt)\n",
    "{\n",
    "    file_flash_t *file_flash_data = file->backend_data;\n",
    "\n",
    "\tswitch(opt)\n",
    "\t{\n",
    "\t\tcase FS_SEEK_SET:\n",
    "\t\t\tfile_flash_data->file_pointer_offset = offset;\n",
    "\t\t\tbreak;\n",
    "\t\tcase FS_SEEK_CUR:\n",
    "\t\t\tfile_flash_data->file_pointer_offset += offset;\n",
    "\t\t\tbreak;\n",
    "\t\tcase FS_SEEK_END:\n",
    "\t\t\tfile_flash_data->file_pointer_offset = file_flash_data->file_size+offset;\n",
    "\t\t\tbreak;\n",
    "\t\tdefault:\n",
    "\t\t\treturn -1;\n",
    "\t\t\tbreak;\n",
    "\t}\n",
    "//\tLog_d(\"file_flash_data->file_pointer_offset is %d!\", file_flash_data->file_pointer_offset);\n",
    "\t\n",
    "\tif(file_flash_data->file_pointer_offset > file_flash_data->file_size)\n",
    "\t\treturn -1;\n",
    "\telse\n",
    "\t\treturn file_flash_data->file_pointer_offset;\n",
    "}"
   ]
  },
  {
   "cell_type": "markdown",
   "id": "d0c6ce47",
   "metadata": {},
   "source": [
    "read函数是在读写指针的位置开始读取指定的字节数，并把读写指针移动到结束的位置。注意，如果指定的字节数超过外部flash驱动单次可读取的最大字节数，要分段进行读取。"
   ]
  },
  {
   "cell_type": "code",
   "execution_count": null,
   "id": "ec4d4721",
   "metadata": {},
   "outputs": [],
   "source": [
    "/*****************************************************************************\n",
    "* Function\t   : _LS_FileReadFlash()\n",
    "* Description  : 从打开文件的当前位置读出数据\n",
    "* Input \t   : file_t:\t文件对象\n",
    "\t\t\t\t buff: \t\t数据缓冲区指针\n",
    " \t\t\t\t size:\t\t数据缓冲区长度\n",
    "* Output\t   : None\n",
    "* Return\t   : >=0 \t\t读出的字节数\n",
    "\t\t\t\t <0 \t\t失败\n",
    "* Note(s)\t   :\n",
    "* Contributor  : 2021年7月2日        Andre\n",
    "*****************************************************************************/\n",
    "static int32_t _LS_FileReadFlash(file_t *file, uint8_t *buff, uint32_t size)\n",
    "{\n",
    "    int32_t i, ret;\n",
    "\tfile_flash_t *file_flash_data = file->backend_data;\n",
    "\n",
    "//\tLog_d(\"file_flash_data->file_save_address is %d!\", file_flash_data->file_save_address);\n",
    "//\tLog_d(\"file_flash_data->file_pointer_offset is %d!\", file_flash_data->file_pointer_offset);\n",
    "//\tLog_d(\"file_flash_data->file_size is %d!\", file_flash_data->file_size);\n",
    "\n",
    "\tif(file_flash_data->file_pointer_offset + size > file_flash_data->file_size)\n",
    "\t{\n",
    "\t\tLog_e(\"read over file_size fail!\");\n",
    "\t\treturn -1;\n",
    "\t}\n",
    "\n",
    "\tfor(i=0;i<size/FLASH_EX_MAX_READ_WRITE_SIZE;i++)\n",
    "\t{\n",
    "\t\tret = LS_flash_ex_read(file_flash_data->file_save_address+file_flash_data->file_pointer_offset, buff+(i*FLASH_EX_MAX_READ_WRITE_SIZE), FLASH_EX_MAX_READ_WRITE_SIZE);\n",
    "\t\tif(ret < 0)\n",
    "\t\t{\n",
    "\t\t\tLog_e(\"LS_flash_ex_read fail!\");\n",
    "\t\t\treturn -1;\n",
    "\t\t}\n",
    "\t\telse\n",
    "\t\t\tfile_flash_data->file_pointer_offset += FLASH_EX_MAX_READ_WRITE_SIZE;\n",
    "\t}\n",
    "\tif(size%FLASH_EX_MAX_READ_WRITE_SIZE != 0)\n",
    "\t{\n",
    "\t\tret = LS_flash_ex_read(file_flash_data->file_save_address+file_flash_data->file_pointer_offset, buff+(i*FLASH_EX_MAX_READ_WRITE_SIZE), size%FLASH_EX_MAX_READ_WRITE_SIZE);\n",
    "\t\tif(ret < 0)\n",
    "\t\t{\n",
    "\t\t\tLog_e(\"fibo_file_read fail!\");\n",
    "\t\t\treturn -1;\n",
    "\t\t}\n",
    "\t\telse\n",
    "\t\t\tfile_flash_data->file_pointer_offset += size%FLASH_EX_MAX_READ_WRITE_SIZE;\n",
    "\t}\n",
    "\t\n",
    "\treturn size;\n",
    "}"
   ]
  },
  {
   "cell_type": "markdown",
   "id": "d863d668",
   "metadata": {},
   "source": [
    "write和close函数同理。"
   ]
  },
  {
   "cell_type": "markdown",
   "id": "1ba72ce3",
   "metadata": {},
   "source": [
    "#### 5.2.4 exist/getsize函数"
   ]
  },
  {
   "cell_type": "markdown",
   "id": "48e5007d",
   "metadata": {},
   "source": [
    "exist函数通过读取文件中的关键字段来确认文件是否存在。同理，getsize函数也是通过读取关键字段（如结构体个数）来计算文件大小的。这里以getsize函数为例。"
   ]
  },
  {
   "cell_type": "code",
   "execution_count": null,
   "id": "105c8de9",
   "metadata": {},
   "outputs": [],
   "source": [
    "/*****************************************************************************\n",
    "* Function\t   : LS_FileGetSizeFlash()\n",
    "* Description  : 获取文件大小-基于外部flash\n",
    "* Input \t   : pathname:\t带路径的文件名\n",
    "\t\t\t\t save_address:  文件首地址\n",
    "* Output\t   : None\n",
    "* Return\t   : >=0\t文件长度\n",
    "\t\t\t\t <0 \t操作失败\n",
    "* Note(s)\t   :\n",
    "* Contributor  : 2021年7月1日\t\tAndre\n",
    "*****************************************************************************/\n",
    "int32_t LS_FileGetSizeFlash(const int8_t *pathname, uint32_t save_address)\n",
    "{\n",
    "\tint32_t i, ret;\n",
    "\tuint8_t slave_num = 0, point_num_temp[DTU_RS485_NUM*MAX_METER_NUM*2] = {0};\n",
    "\tuint16_t point_num[DTU_RS485_NUM*MAX_METER_NUM] = {0};\n",
    "\tuint32_t flash_address_index = 0, file_size = 0;\n",
    "\n",
    "\t// 读从设备总数\n",
    "\tret = LS_flash_ex_read(save_address, &slave_num, 1);\n",
    "\tif(ret < 0)\n",
    "\t{\n",
    "\t\tLog_e(\"LS_flash_ex_read error!\");\n",
    "\t\treturn -1;\n",
    "\t}\n",
    "//\tLog_d(\"slave_num is %d!\", slave_num);\n",
    "\t\n",
    "\tif(slave_num > DTU_RS485_NUM*MAX_METER_NUM)\n",
    "\t{\n",
    "\t\tLog_e(\"slave_num error!\");\n",
    "\t\treturn -1;\n",
    "\t}\n",
    "\tflash_address_index = 1;\n",
    "\n",
    "\t// 读单个从设备测点数\n",
    "#if ONE_BYTE_CODE_LEN\n",
    "\tret = LS_flash_ex_read(save_address+flash_address_index, point_num_temp, slave_num);\n",
    "\tif(ret < 0)\n",
    "\t{\n",
    "\t\tLog_e(\"LS_flash_ex_read error!\");\n",
    "\t\treturn -1;\n",
    "\t}\n",
    "\n",
    "\tfor(i=0;i<slave_num;i++)\n",
    "\t\tpoint_num[i] = point_num_temp[i];\n",
    "\tflash_address_index += slave_num;\t\n",
    "#else\n",
    "\tret = LS_flash_ex_read(save_address+flash_address_index, point_num_temp, slave_num*2);\n",
    "\tif(ret < 0)\n",
    "\t{\n",
    "\t\tLog_e(\"LS_flash_ex_read error!\");\n",
    "\t\treturn -1;\n",
    "\t}\n",
    "\t// 大小端转换\n",
    "\tfor(i=0;i<slave_num;i++)\n",
    "\t\tpoint_num[i] = (point_num_temp[i*2]<<8)+point_num_temp[i*2+1];\n",
    "\tflash_address_index += slave_num*2; \n",
    "#endif\n",
    "\n",
    "\tfor(i=0;i<slave_num;i++)\n",
    "\t{\n",
    "\t\tif(point_num[i] > DTU_VM_MAX)\n",
    "\t\t{\n",
    "\t\t\tLog_e(\"node[%d]: %d is too large, error!\", i, point_num[i]);\n",
    "\t\t\treturn -1;\n",
    "\t\t}\t\n",
    "\t}\n",
    "\n",
    "\t//计算文件大小\n",
    "    if(strstr(pathname,NORTH_BIN) != NULL)\n",
    "\t{\n",
    "\t\tfile_size = slave_num*sizeof(config_file_server_code_ied_t)+ sizeof(config_file_server_code_app_t) + flash_address_index;\n",
    "\t\tfor(i=0;i<slave_num;i++)\n",
    "\t\t{\n",
    "\t\t\tfile_size += (sizeof(config_file_server_code_code_t) * point_num[i]);\n",
    "//\t\t\tLog_d(\"sizeof(config_file_server_code_code_t) is %d\", sizeof(config_file_server_code_code_t));\n",
    "//\t\t\tLog_d(\"point_num[%d] is %d\", i, point_num[i]);\n",
    "\t\t}\n",
    "\t}\n",
    "\telse if(strstr(pathname,SOUTH_BIN) != NULL)\n",
    "\t{\n",
    "\t\tfile_size = slave_num*sizeof(config_file_codes_template_ied_t)+ sizeof(config_file_codes_template_app_t) + flash_address_index;\n",
    "\t\tfor(i=0;i<slave_num;i++)\n",
    "\t\t{\n",
    "\t\t\tfile_size += (sizeof(config_file_codes_template_code_t) * point_num[i]);\n",
    "//\t\t\tLog_d(\"sizeof(config_file_server_code_code_t) is %d\", sizeof(config_file_codes_template_code_t));\n",
    "//\t\t\tLog_d(\"point_num[%d] is %d\", i, point_num[i]);\n",
    "\t\t}\n",
    "\t}\n",
    "\telse\n",
    "\t{\n",
    "        Log_e(\"LS_FileGetSizeFlash %s error\", pathname);\n",
    "\t\treturn -1;\t\t\t\n",
    "    }\n",
    "//\tLog_d(\"bin file size is :%d\",file_size);\n",
    "\n",
    "\treturn file_size;\n",
    "}"
   ]
  },
  {
   "cell_type": "markdown",
   "id": "9016da07",
   "metadata": {},
   "source": [
    "## 6.不足和改进方法"
   ]
  },
  {
   "cell_type": "markdown",
   "id": "2bd7a293",
   "metadata": {},
   "source": [
    "1.文件类的抽象接口的方法只包含文件的基本操作，需要后续进一步扩展。"
   ]
  },
  {
   "cell_type": "markdown",
   "id": "35daf688",
   "metadata": {},
   "source": [
    "2.基于外部flash的文件对象的exist/getsize函数设计不够严谨。后续可考虑flash中增加文件信息头（包括校验码，文件是否存在标志，文件大小，文件在外部flash中的存储地址等），用作检验；而不是用关键字段来进行优化。"
   ]
  },
  {
   "cell_type": "markdown",
   "id": "25ca14fd",
   "metadata": {},
   "source": [
    "3.依赖广和通头文件，后续可使用自定义宏来减少对广和通头文件的依赖。"
   ]
  },
  {
   "cell_type": "markdown",
   "id": "8a9c4f11",
   "metadata": {},
   "source": [
    "4.指针操作频繁。要注意malloc和free的对应，防止内存泄露。"
   ]
  }
 ],
 "metadata": {
  "kernelspec": {
   "display_name": "Python 3",
   "language": "python",
   "name": "python3"
  },
  "language_info": {
   "codemirror_mode": {
    "name": "ipython",
    "version": 3
   },
   "file_extension": ".py",
   "mimetype": "text/x-python",
   "name": "python",
   "nbconvert_exporter": "python",
   "pygments_lexer": "ipython3",
   "version": "3.8.8"
  }
 },
 "nbformat": 4,
 "nbformat_minor": 5
}
