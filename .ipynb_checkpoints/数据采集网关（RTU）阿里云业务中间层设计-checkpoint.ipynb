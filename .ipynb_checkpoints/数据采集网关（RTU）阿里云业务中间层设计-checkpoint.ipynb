{
 "cells": [
  {
   "cell_type": "markdown",
   "id": "349a01bb",
   "metadata": {},
   "source": [
    "# 数据采集网关（RTU）阿里云业务中间层设计"
   ]
  },
  {
   "cell_type": "markdown",
   "id": "2b9fab3a",
   "metadata": {},
   "source": [
    "## 1.目的"
   ]
  },
  {
   "cell_type": "markdown",
   "id": "5f2500b6",
   "metadata": {},
   "source": [
    "梳理软件设计，便于程序理解和维护。"
   ]
  },
  {
   "cell_type": "markdown",
   "id": "6fe5f81b",
   "metadata": {},
   "source": [
    "## 2.范围 "
   ]
  },
  {
   "cell_type": "markdown",
   "id": "19a704b0",
   "metadata": {},
   "source": [
    "  适用于数据采集网关（RTU）及同类产品。  "
   ]
  },
  {
   "cell_type": "markdown",
   "id": "5a7bb2cc",
   "metadata": {},
   "source": [
    "## 3.背景"
   ]
  },
  {
   "cell_type": "markdown",
   "id": "0a988ab0",
   "metadata": {},
   "source": [
    "数据采集网关（RTU）的北向（对平台）业务任务存在于南向（对子设备）采集任务和北向链路任务中间，是平台业务在数据采集网关（RTU）上的实现。以独立任务（线程）的方式运行。"
   ]
  },
  {
   "cell_type": "markdown",
   "id": "38d8898e",
   "metadata": {},
   "source": [
    "北向业务任务运行时，首先要对业务平台进行初始化。代码如下："
   ]
  },
  {
   "cell_type": "code",
   "execution_count": null,
   "id": "1c92ca93",
   "metadata": {},
   "outputs": [],
   "source": [
    "/*****************************************************************************\n",
    "* Function     : PlatformInit()\n",
    "* Description  : 业务平台初始化\n",
    "* Input        : platform_id:业务平台编号\n",
    "* Output       : None\n",
    "* Return       : None\n",
    "* Note(s)      : None\n",
    "* Contributor  : 2020年12月3日        Andre\n",
    "*****************************************************************************/\n",
    "static PLATFORM* PlatformInit(PLATFORM_ID_E platform_id)\n",
    "{\n",
    "    PLATFORM *p_platform = NULL;\n",
    "    \n",
    "    p_platform = fibo_malloc(sizeof(PLATFORM));\n",
    "    if(p_platform == NULL)\n",
    "    {\n",
    "        Log_e(\"fibo_malloc fail\");\n",
    "        return NULL;\n",
    "    }\n",
    "    \n",
    "    if (platform_id >= PLATFORM_ID_MAX)\n",
    "    {\n",
    "        Log_e(\"platform_id %d is invalid\", platform_id);\n",
    "        return NULL;\n",
    "    }\n",
    "\n",
    "    p_platform->id = platform_id;\n",
    "    switch(p_platform->id)\n",
    "    {\n",
    "        case LSYUN_PAAS:\n",
    "            p_platform->FunProtocolDeal = LsyunPaasDeal;\n",
    "            break;\n",
    "        case ALIYUN:\n",
    "            p_platform->FunProtocolDeal = AliyunDeal;\n",
    "            break;\n",
    "        default:\n",
    "            break;\n",
    "    }\n",
    "\n",
    "    return p_platform;\n",
    "}"
   ]
  },
  {
   "cell_type": "markdown",
   "id": "57290087",
   "metadata": {},
   "source": [
    "其中，ALIYUN是针对阿里云物模型数据在数据采集网关（RTU）上的实现，AliyunDeal是阿里云协议解析处理函数。"
   ]
  },
  {
   "cell_type": "markdown",
   "id": "2cadc37a",
   "metadata": {},
   "source": [
    "## 4.总体设计"
   ]
  },
  {
   "cell_type": "markdown",
   "id": "2dbde62d",
   "metadata": {},
   "source": [
    "阿里云物模型是物理空间中的实体（如传感器、车载装置、楼宇、工厂等）在云端的数字化表示，从属性、服务和事件三个维度，分别描述了该实体是什么、能做什么、可以对外提供哪些信息。"
   ]
  },
  {
   "cell_type": "markdown",
   "id": "6bccbcce",
   "metadata": {},
   "source": [
    "阿里云业务实现的核心思想是通过配置文件读取阿里云业务相关数据（比如测点标识符），然后把采集到的数据转换成物模型所规定的属性、服务和事件，最后上报。"
   ]
  },
  {
   "cell_type": "markdown",
   "id": "a50c2eb3",
   "metadata": {},
   "source": [
    "阿里云业务中间层总体设计示意图如下："
   ]
  },
  {
   "cell_type": "markdown",
   "id": "64b6035d",
   "metadata": {},
   "source": [
    "![jupyter](./picture/阿里云业务示意图.bmp)"
   ]
  },
  {
   "cell_type": "markdown",
   "id": "14a97c5e",
   "metadata": {},
   "source": [
    "## 5.详细设计"
   ]
  },
  {
   "cell_type": "markdown",
   "id": "d2836bc6",
   "metadata": {},
   "source": [
    "### 5.1 属性（property）上报"
   ]
  },
  {
   "cell_type": "markdown",
   "id": "a52ef7f1",
   "metadata": {},
   "source": [
    "属性上报由北向（阿里云）业务任务定时触发。其中，首次上报要对齐上一个整点时间。之后按上报周期，定时上报数据。"
   ]
  },
  {
   "cell_type": "markdown",
   "id": "b675db2d",
   "metadata": {},
   "source": [
    "为防止队列数据过大，北向（阿里云）业务任务发出的消息只包含时间戳，device_id和测点个数。数据在调用ParsePeriodData函数组包的时候拼接到报文中。"
   ]
  },
  {
   "cell_type": "markdown",
   "id": "7b0a2569",
   "metadata": {},
   "source": [
    "属性上报部分代码如下："
   ]
  },
  {
   "cell_type": "code",
   "execution_count": null,
   "id": "3fc3c15e",
   "metadata": {},
   "outputs": [],
   "source": [
    "                // 周期数据上报\n",
    "                start_time = LS_utc_time(NULL);\n",
    "                // 首次上报，要对齐上一个整点时间\n",
    "                if(first_upload_flag == 0)\n",
    "                {\n",
    "                    start_time /= met_app_para.upload_period;\n",
    "                    start_time *= met_app_para.upload_period;\n",
    "                    first_upload_flag = 1;\n",
    "                }\n",
    "                // 取整点时间上报\n",
    "                if(start_time > last_time + met_app_para.upload_period)\n",
    "                {\n",
    "                    start_time /= met_app_para.upload_period;\n",
    "                    start_time *= met_app_para.upload_period;\n",
    "                    Log_w(\"Send PeriodData start\");\n",
    "                    // DIDO一直上报属性\n",
    "                    SendPeriodDatatoLink(start_time, aliyun_parameter->device.ied.device_code, aliyun_parameter->code_chain_num);\n",
    "                    for(i=0;i<north_met_num_of_meter-1;i++)\n",
    "                    {\n",
    "                        // 断连从设备不上报属性\n",
    "                        if(g_last_device_communicate_state[(aliyun_parameter+1+i)->device.ied.device_code] == COMMUNICATION_CONNECT)\n",
    "                            SendPeriodDatatoLink(start_time, (aliyun_parameter+1+i)->device.ied.device_code, (aliyun_parameter+1+i)->code_chain_num);                       \n",
    "                    }\n",
    "                    last_time = start_time;\n",
    "                }"
   ]
  },
  {
   "cell_type": "markdown",
   "id": "d1e35d77",
   "metadata": {},
   "source": [
    "### 5.2 事件（event）上报"
   ]
  },
  {
   "cell_type": "markdown",
   "id": "e4d0128b",
   "metadata": {},
   "source": [
    "根据应用场景，数据采集网关定义了从设备断链、数据预警和数据变化上送三种通用事件。定义如下："
   ]
  },
  {
   "cell_type": "code",
   "execution_count": null,
   "id": "ed99a551",
   "metadata": {},
   "outputs": [],
   "source": [
    "//alink协议EVENT报警码\n",
    "#define ERROR_CODE_SLAVE_OFFLINE    0x01        //从设备断链\n",
    "#define ERROR_CODE_DATA_ALARM       0x02        //数据预警\n",
    "#define ERROR_CODE_BURST            0x03        //数据变化上送"
   ]
  },
  {
   "cell_type": "markdown",
   "id": "ec83915b",
   "metadata": {},
   "source": [
    "其中，从设备断连与连接情况有关，数据预警和数据变化上送与数据有关。"
   ]
  },
  {
   "cell_type": "markdown",
   "id": "c982c1fd",
   "metadata": {},
   "source": [
    "#### 5.2.1 从设备断链事件"
   ]
  },
  {
   "cell_type": "markdown",
   "id": "8fe10ed9",
   "metadata": {},
   "source": [
    "当南向采集任务发现从设备断连/恢复时，会发送一条消息到北向业务任务。北向业务任务收到此消息后，把消息转发给北向链路任务。北向链路再调用ParseDeviceAlarm函数组包从设备断链事件并发送给阿里云平台。"
   ]
  },
  {
   "cell_type": "markdown",
   "id": "bb0efb1a",
   "metadata": {},
   "source": [
    "#### 5.2.2 数据预警和数据变化上送事件"
   ]
  },
  {
   "cell_type": "markdown",
   "id": "d022a174",
   "metadata": {},
   "source": [
    "当南向采集任务发现数据发生变化时，会发送一条消息到北向业务任务。北向业务任务收到此消息后，要根据新老数据（老数据指上次产生事件对应数据）判断是否发生数据预警或数据变化上送事件。对应代码如下："
   ]
  },
  {
   "cell_type": "code",
   "execution_count": null,
   "id": "d36bc39c",
   "metadata": {},
   "outputs": [],
   "source": [
    "/*****************************************************************************\n",
    "* Function     : EventUploadJudge()\n",
    "* Description  : 判断变化上送和数据告警数据是否需要上报\n",
    "* Input        : event_data:    alink事件结构体\n",
    "* Output       : reason:        error_code指针\n",
    "* Return       : 0      需要上报\n",
    "                 -1     不需要上报\n",
    "* Note(s)      : None\n",
    "* Contributor  : 2021年3月20日        Andre\n",
    "*****************************************************************************/\n",
    "int EventUploadJudge(ALINK_EVENT_t *event_data, uint8_t *reason)\n",
    "{\n",
    "    int i, j, k, ret;\n",
    "    north_slave_code_chain_t *temp;\n",
    "    float value_difference = 0;\n",
    "    \n",
    "    if(event_data == NULL)\n",
    "    {\n",
    "        Log_e(\"event_data is null, convert fail\");\n",
    "        return -1;\n",
    "    }\n",
    "\n",
    "    for(i=0;i<event_data->param_amount;i++)\n",
    "    {\n",
    "        //边缘计算\n",
    "        ret = EdgeComputing(&event_data->param[i]);\n",
    "        if(ret < 0)\n",
    "        {\n",
    "            Log_e(\"EdgeComputing error\");\n",
    "            return -1;              \n",
    "        }\n",
    "        //搜索device_code\n",
    "        for(k=0;k<north_met_num_of_meter;k++)\n",
    "        {\n",
    "            if((aliyun_parameter + k)->device.ied.device_code == event_data->device_code)\n",
    "                break;\n",
    "        }\n",
    "        //找不到返回失败 \n",
    "        if(k >= north_met_num_of_meter)\n",
    "            return -1;\n",
    "        \n",
    "        //搜索serial_number\n",
    "        if((aliyun_parameter + k)->north_slave_code_chain == NULL)\n",
    "            return -1;\n",
    "        temp = (aliyun_parameter + k)->north_slave_code_chain;\n",
    "        for(j=0;j<(aliyun_parameter + k)->code_chain_num;j++)\n",
    "        {\n",
    "            if(temp->serial_number == event_data->param[i].serial_number)\n",
    "            {\n",
    "                // 是变化上送还是数据预警,不可同时属于二者\n",
    "                Log_d(\"temp->serial_number = %d\", temp->serial_number);             \n",
    "                Log_d(\"temp->last_update_value = %.2f, event_data->param[%d].value = %.2f\", temp->last_update_value, i, event_data->param[i].value);\n",
    "                Log_d(\"temp->burst_flag = %d, temp->deadzone = %.2f\", temp->parameter.burst_flag, temp->parameter.deadzone);\n",
    "                Log_d(\"temp->alarm_flag = %d, temp->alarm_ceiling = %.2f, temp->alarm_floor = %.2f\", temp->parameter.alarm_flag, temp->parameter.alarm_ceiling, temp->parameter.alarm_floor);\n",
    "                // 判断是否为变化上送\n",
    "                if(temp->parameter.burst_flag == 1)\n",
    "                {\n",
    "                    // 比大小\n",
    "                    if(event_data->param[i].value >= temp->last_update_value)\n",
    "                        value_difference = event_data->param[i].value - temp->last_update_value;\n",
    "                    else\n",
    "                        value_difference = temp->last_update_value - event_data->param[i].value;\n",
    "                    // 如果超过死区\n",
    "                    if(value_difference > temp->parameter.deadzone)\n",
    "                    {\n",
    "                        *reason = BURST_UPLOAD;\n",
    "                        temp->last_update_value = event_data->param[i].value;\n",
    "                        return 0;\n",
    "                    }\n",
    "                    // 如果不超过死区\n",
    "                    else\n",
    "                        return -1;                      \n",
    "                }\n",
    "                // 判断是否为数据预警\n",
    "                else if(temp->parameter.alarm_flag == 1)\n",
    "                {\n",
    "                    // 如果上次超限\n",
    "                    if((temp->last_update_value > temp->parameter.alarm_ceiling) || (temp->last_update_value < temp->parameter.alarm_floor))\n",
    "                    {\n",
    "                        // 如果本次恢复\n",
    "                        if((event_data->param[i].value <= temp->parameter.alarm_ceiling) && (event_data->param[i].value >= temp->parameter.alarm_floor))\n",
    "                        {\n",
    "                            *reason = DATA_ALARM_RECOVER;\n",
    "                            temp->last_update_value = event_data->param[i].value;\n",
    "                            return 0;\n",
    "                        }\n",
    "                        // 如果本次未恢复\n",
    "                        else\n",
    "                            return -1;                  \n",
    "                    }\n",
    "                    // 如果上次未超限\n",
    "                    {\n",
    "                        // 如果本次超限\n",
    "                        if((event_data->param[i].value > temp->parameter.alarm_ceiling) || (event_data->param[i].value < temp->parameter.alarm_floor))\n",
    "                        {\n",
    "                            *reason = DATA_ALARM_OCCUR;\n",
    "                            temp->last_update_value = event_data->param[i].value;\n",
    "                            return 0;\n",
    "                        }\n",
    "                        // 如果本次未超限\n",
    "                        else\n",
    "                            return -1;                  \n",
    "                    }\n",
    "                }\n",
    "                else\n",
    "                {\n",
    "                    Log_e(\"EventUploadJudge error\");\n",
    "                    return -1;                              \n",
    "                }\n",
    "                break;\n",
    "            }\n",
    "            temp = temp->p_next;\n",
    "        }\n",
    "        //找不到返回失败 \n",
    "        if(j >= (aliyun_parameter + k)->code_chain_num)\n",
    "            return -1;\n",
    "    }\n",
    "\n",
    "    return 0;\n",
    "}"
   ]
  },
  {
   "cell_type": "markdown",
   "id": "da331f56",
   "metadata": {},
   "source": [
    "如果发生数据预警或数据变化上送事件，则把对应事件发送给北向链路任务。北向链路任务收到后组包上报。"
   ]
  },
  {
   "cell_type": "markdown",
   "id": "519a5297",
   "metadata": {},
   "source": [
    "### 5.3 服务调用和响应"
   ]
  },
  {
   "cell_type": "markdown",
   "id": "8585e0b7",
   "metadata": {},
   "source": [
    "用户通过阿里云平台发起服务调用时，阿里云会下发报文给数据采集网关。网关的北向链路任务收到报文后调用DeparseWriteData函数拆包，把对应数据以消息的形式发到北向业务任务。"
   ]
  },
  {
   "cell_type": "markdown",
   "id": "681772bc",
   "metadata": {},
   "source": [
    "北向业务任务收到消息后，根据下发的设备编号（device_code）查找这台设备对应的总线，再把消息发送到对应总线的南向采集任务执行。对应代码如下："
   ]
  },
  {
   "cell_type": "code",
   "execution_count": null,
   "id": "035da95c",
   "metadata": {},
   "outputs": [],
   "source": [
    "/*****************************************************************************\n",
    "* Function     : AliyunDeal()\n",
    "* Description  : 阿里云协议解析处理\n",
    "* Input        : data   数据\n",
    "                 len    数据长度\n",
    "* Output       : None\n",
    "* Return       : 0      成功\n",
    "                 -1     失败\n",
    "* Note(s)      : None\n",
    "* Contributor  : 2021年3月19日        Andre\n",
    "*****************************************************************************/\n",
    "int AliyunDeal(uint8_t *data, uint16_t len)\n",
    "{\n",
    "    uint8_t device_code_temp;\n",
    "    int32_t i, j, ret = -1;\n",
    "    POINT_WRITE_t msg = {0};\n",
    "    \n",
    "    if((data == NULL) || (len < 10) || (len > MQTT_MBOX_LEN))\n",
    "    {\n",
    "        Log_w(\"data is invalid, AliyunDeal fail\");\n",
    "        return -1;\n",
    "    }\n",
    "\n",
    "    // 使用透传模式\n",
    "    msg.direct_send_flag = 1;\n",
    "    // 透传数据\n",
    "    for(i=0;i<len;i++)      \n",
    "        msg.custom_data[i] = data[i];\n",
    "    // 透传数据长度\n",
    "    msg.custom_data_length = len;\n",
    "    \n",
    "    g_write_priority_flag = 1;\n",
    "    // 从拓扑表中查找对应设备在哪个总线\n",
    "    device_code_temp = (msg.custom_data[1+6]<<8)+msg.custom_data[1+7];\n",
    "    for(i=0;i<DTU_RS485_NUM;i++)\n",
    "    {\n",
    "        for(j=0;j<MAX_METER_NUM;j++)\n",
    "        {\n",
    "            if(g_topology[i][j] == device_code_temp)\n",
    "                break;\n",
    "        }\n",
    "    }\n",
    "    // 没找到就发给总线1,会回复失败\n",
    "    if(i<DTU_RS485_NUM)\n",
    "        ret = ls_sys_mbox_post(north_to_south_business_queue[i], &msg,500);//发送消息队列\n",
    "    else\n",
    "        ret = ls_sys_mbox_post(north_to_south_business_queue[0], &msg,500);//发送消息队列     \n",
    "\n",
    "    return ret;\n",
    "}"
   ]
  },
  {
   "cell_type": "markdown",
   "id": "fad8f695",
   "metadata": {},
   "source": [
    "执行完毕后，南向采集任务把结果以消息反馈给北向业务任务。北向业务任务再把消息透传给北向链路任务。北向链路任务收到消息后组包，把服务响应发送给阿里云平台。"
   ]
  },
  {
   "cell_type": "markdown",
   "id": "9016da07",
   "metadata": {},
   "source": [
    "## 6.不足和改进方法"
   ]
  },
  {
   "cell_type": "markdown",
   "id": "2bd7a293",
   "metadata": {},
   "source": [
    "1.服务调用流程的链路较长，导致服务响应慢。"
   ]
  }
 ],
 "metadata": {
  "kernelspec": {
   "display_name": "Python 3",
   "language": "python",
   "name": "python3"
  },
  "language_info": {
   "codemirror_mode": {
    "name": "ipython",
    "version": 3
   },
   "file_extension": ".py",
   "mimetype": "text/x-python",
   "name": "python",
   "nbconvert_exporter": "python",
   "pygments_lexer": "ipython3",
   "version": "3.8.8"
  }
 },
 "nbformat": 4,
 "nbformat_minor": 5
}
