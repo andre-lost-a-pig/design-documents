{
 "cells": [
  {
   "cell_type": "markdown",
   "id": "0d106adf",
   "metadata": {},
   "source": [
    "# 数据采集网关（RTU）配置文件的数据结构设计"
   ]
  },
  {
   "cell_type": "markdown",
   "id": "695135e4",
   "metadata": {},
   "source": [
    "## 1.目的"
   ]
  },
  {
   "cell_type": "markdown",
   "id": "07092241",
   "metadata": {},
   "source": [
    "梳理软件设计，便于程序理解和维护。"
   ]
  },
  {
   "cell_type": "markdown",
   "id": "31a6937f",
   "metadata": {},
   "source": [
    "## 2.范围 "
   ]
  },
  {
   "cell_type": "markdown",
   "id": "9ea1134d",
   "metadata": {},
   "source": [
    "  适用于数据采集网关（RTU）及同类产品。  "
   ]
  },
  {
   "cell_type": "markdown",
   "id": "c91ec473",
   "metadata": {},
   "source": [
    "## 3.背景"
   ]
  },
  {
   "cell_type": "markdown",
   "id": "4f925186",
   "metadata": {},
   "source": [
    "数据采集网关（RTU）的配置文件分为两部分。"
   ]
  },
  {
   "cell_type": "markdown",
   "id": "4068cb1c",
   "metadata": {},
   "source": [
    "南向（对下，终端设备）的配置文件描述子设备的拓扑关系，采集方式和子设备的测点。北向（对上，云平台）的配置文件描述云平台的接入方式和上报数据的格式。文件列表如下："
   ]
  },
  {
   "cell_type": "markdown",
   "id": "b36816e8",
   "metadata": {},
   "source": [
    "![jupyter](./picture/1.png)"
   ]
  },
  {
   "cell_type": "markdown",
   "id": "979184a1",
   "metadata": {},
   "source": [
    "其中，BUS_485_001和codes_template为南向配置文件，SERVER_001和SERVER_CODE为北向配置文件。"
   ]
  },
  {
   "cell_type": "markdown",
   "id": "b0098382",
   "metadata": {},
   "source": [
    "## 4.总体设计"
   ]
  },
  {
   "cell_type": "markdown",
   "id": "0d9d8f57",
   "metadata": {},
   "source": [
    "配置文件的数据结构在整体上保持与配置文件内容的高度统一。采用面向对象的设计思想，通过逻辑分层把同类属性打包成基类（基本结构体）以提高程序的可读性。"
   ]
  },
  {
   "cell_type": "markdown",
   "id": "68465b49",
   "metadata": {},
   "source": [
    "此外，为了提高内存利用率，对于不会占用大块内存空间的数据（如从设备数据，一般小于10KB），采用数组的形式定义；对于会占用大块内存空间的数据（如点表，最多几百KB），采用链表的形式定义。"
   ]
  },
  {
   "cell_type": "markdown",
   "id": "3418e35b",
   "metadata": {},
   "source": [
    "## 5.详细设计"
   ]
  },
  {
   "cell_type": "markdown",
   "id": "6b4d3a41",
   "metadata": {},
   "source": [
    "### 5.1 南向配置文件的数据结构"
   ]
  },
  {
   "cell_type": "markdown",
   "id": "60763d11",
   "metadata": {},
   "source": [
    "#### 5.1.1 从设备数据结构"
   ]
  },
  {
   "cell_type": "markdown",
   "id": "1729de20",
   "metadata": {},
   "source": [
    "从设备数据结构定义如下："
   ]
  },
  {
   "cell_type": "code",
   "execution_count": null,
   "id": "f4a084e9",
   "metadata": {},
   "outputs": [],
   "source": [
    "typedef struct _METER_PARAMETER_STRUCT\n",
    "{\n",
    "    METER_READ_ONLY_PARA_STRUCT     met_ro_para;\n",
    "    METER_RW_PARA_STRUCT            met_rw_parameter;               // 预留\n",
    "    SOUTH_USER_POINT_TABLE_t        *met_point_ptr;                 // 点表指针\n",
    "}METER_PARAMETER_STRUCT;"
   ]
  },
  {
   "cell_type": "markdown",
   "id": "705ca9cc",
   "metadata": {},
   "source": [
    "其中，met_ro_para表示从设备的属性，met_point_ptr表示指向此从设备对应点表的指针。"
   ]
  },
  {
   "cell_type": "markdown",
   "id": "abe59e2f",
   "metadata": {},
   "source": [
    "METER_READ_ONLY_PARA_STRUCT结构体定义如下："
   ]
  },
  {
   "cell_type": "code",
   "execution_count": null,
   "id": "736e7eb3",
   "metadata": {},
   "outputs": [],
   "source": [
    "typedef struct\n",
    "{\n",
    "    UINT16                  met_dev_code;                           // 设备号\n",
    "    uart_parameters_t       uart_parameter;                         // 串口参数  \n",
    "    UINT8                   met_protocol;                           // 从设备规约\n",
    "    UINT32                  met_high_addr;                          // 从设备高地址\n",
    "    UINT32                  met_low_addr;                           // 从设备低地址\n",
    "    UINT8                   met_read_period;                        // 数据读取周期\n",
    "    UINT8                   met_save_period;                        // 数据保存周期\n",
    "    UINT16                  met_pointtable;                         // 从设备点表号\n",
    "    advanced_parameters_t   advanced_parameter;                     // 从设备高级参数\n",
    "\n",
    "    UINT8                   met_set_time_enable_flag : 1;           // 是否对时的标志\n",
    "    UINT8                   met_FZ_state : 1;                       // 阀值事件的标志\n",
    "    UINT8                   met_second_poll : 1;                    // 秒轮询开关\n",
    "    UINT8                   met_run_enable_flag : 1;                // 设备是否投入运行标志\n",
    "    UINT8                   met_single_write_flag : 1;              // modbus单点写入开关,0表示不使用05、06功能码\n",
    "    UINT16                  option_length;                          // 可选内容长度（字节数）\n",
    "    UINT8                   option_flag;                            // 可选内容标志\n",
    "    INT8                    met_reserve_num[32];                    // 保留参数\n",
    "    UINT8                   met_first_run_flag;                     // 表第一次运行\n",
    "}METER_READ_ONLY_PARA_STRUCT;"
   ]
  },
  {
   "cell_type": "markdown",
   "id": "3aed50c8",
   "metadata": {},
   "source": [
    "#### 5.1.2 点表数据结构"
   ]
  },
  {
   "cell_type": "markdown",
   "id": "defd7b67",
   "metadata": {},
   "source": [
    "点表数据结构采用了二维链表。如下图所示："
   ]
  },
  {
   "cell_type": "markdown",
   "id": "085edf6a",
   "metadata": {},
   "source": [
    "![jupyter](./picture/2.png)"
   ]
  },
  {
   "cell_type": "markdown",
   "id": "76c6277d",
   "metadata": {},
   "source": [
    "其中第一维表示点表信息，包括点表号、点表版本号、点表测点个数等；第二维表示测点信息，包括测点数据类型、测点地址、寄存器个数等。"
   ]
  },
  {
   "cell_type": "markdown",
   "id": "64e07f41",
   "metadata": {},
   "source": [
    "第一维点表信息结构体如下："
   ]
  },
  {
   "cell_type": "code",
   "execution_count": null,
   "id": "a5d23a74",
   "metadata": {},
   "outputs": [],
   "source": [
    "typedef struct SOUTH_USER_POINT_TABLE_\n",
    "{\n",
    "    UINT32                          id;                             // 点表号\n",
    "    INT8                            name[50];                       // 点表名 \n",
    "    UINT16                          type;                           // 点表类型，保留\n",
    "    INT8                            version[20];                    // 点表版本号\n",
    "    UINT16                          measurepoint_number;            // 测点个数  \n",
    "    SOUTH_USER_MEASURE_POINT_t      *p_measure_point;               // 指向首个测点\n",
    "    struct SOUTH_USER_POINT_TABLE_  *p_next;                        // 指向下一个点表\n",
    "}SOUTH_USER_POINT_TABLE_t;"
   ]
  },
  {
   "cell_type": "markdown",
   "id": "a0282351",
   "metadata": {},
   "source": [
    "第二维测点信息结构体如下："
   ]
  },
  {
   "cell_type": "code",
   "execution_count": null,
   "id": "d48efd2c",
   "metadata": {},
   "outputs": [],
   "source": [
    "typedef struct SOUTH_USER_MEASURE_POINT_\n",
    "{\n",
    "    UINT16                              serial_number;              // 测点序号\n",
    "    config_file_codes_template_code_t   measure_point_para;         // 测点数据\n",
    "    struct SOUTH_USER_MEASURE_POINT_    *p_next;\n",
    "}SOUTH_USER_MEASURE_POINT_t;"
   ]
  },
  {
   "cell_type": "code",
   "execution_count": null,
   "id": "6776fc95",
   "metadata": {},
   "outputs": [],
   "source": [
    "typedef struct \n",
    "{\n",
    "            // \"code\"       \n",
    "            UINT8                   function_code;                  // 功能码\n",
    "            UINT8                   read_mode;\n",
    "            UINT16                  data_type;                      // 测点数据类型,char int等\n",
    "            UINT16                  address_type;                   // 测点地址类型(主要用于部分plc)    \n",
    "            UINT32                  address;                        // 测点地址\n",
    "            UINT8                   length;                         // 寄存器个数\n",
    "            UINT8                   offset;                         // 偏移量\n",
    "            UINT8                   fast_upload_flag;               // 小循环标志位：1表示点位采取小循环，小轮训包括变化上送和数据告警\n",
    "            float                   deadzone;                       // 死区\n",
    "}config_file_codes_template_code_t;"
   ]
  },
  {
   "cell_type": "markdown",
   "id": "67fba279",
   "metadata": {},
   "source": [
    "### 5.2  北向配置文件的数据结构"
   ]
  },
  {
   "cell_type": "markdown",
   "id": "4c20f097",
   "metadata": {},
   "source": [
    "#### 5.2.1 北向链路数据结构"
   ]
  },
  {
   "cell_type": "markdown",
   "id": "fbaba076",
   "metadata": {},
   "source": [
    "北向链路数据结构定义如下："
   ]
  },
  {
   "cell_type": "code",
   "execution_count": null,
   "id": "8b49de32",
   "metadata": {},
   "outputs": [],
   "source": [
    "// 北向链路配置文件SERVER_001结构体\n",
    "typedef struct\n",
    "{\n",
    "    // \"App\"\n",
    "    app_t                   app;\n",
    "    UINT16                  upload_period;\n",
    "        // \"Link\"\n",
    "        INT8                    trans_type[32+1];\n",
    "        INT8                    trans_protocol[32+1];\n",
    "        UINT16                  client_id;\n",
    "        INT8                    username[32+1];\n",
    "        INT8                    password[32+1];\n",
    "            // \"product_certificate\"\n",
    "            certificate_t           product_certificate;\n",
    "        INT8                    url[128+1];\n",
    "        UINT16                  port;\n",
    "            // \"more\"\n",
    "            INT8                    Ver[16+1];\n",
    "            UINT8                   clear_session;\n",
    "            INT8                    auth[64+1];\n",
    "}config_file_server_001_t;"
   ]
  },
  {
   "cell_type": "markdown",
   "id": "beaeeaa8",
   "metadata": {},
   "source": [
    "其中，product_certificate表示三元组信息。定义如下："
   ]
  },
  {
   "cell_type": "code",
   "execution_count": null,
   "id": "af97c726",
   "metadata": {},
   "outputs": [],
   "source": [
    "// \"product_certificate\"基类\n",
    "typedef struct\n",
    "{\n",
    "    INT8                    product_key[PRODUCT_KEY_LEN+1];\n",
    "    INT8                    device_name[DEVICE_NAME_LEN+1];\n",
    "    INT8                    device_secret[DEVICE_SECRET_LEN+1];\n",
    "}certificate_t;"
   ]
  },
  {
   "cell_type": "markdown",
   "id": "210cd0ec",
   "metadata": {},
   "source": [
    "#### 5.2.2 北向业务数据结构"
   ]
  },
  {
   "cell_type": "markdown",
   "id": "9593964e",
   "metadata": {},
   "source": [
    "北向业务数据结构定义了业务相关的内容。不同的云平台对应的业务模型可能存在差异。此处以阿里云物模型为例。"
   ]
  },
  {
   "cell_type": "markdown",
   "id": "de6186b7",
   "metadata": {},
   "source": [
    "北向业务数据结构一共二维。其中第一维是数组，表示从设备的业务数据；第二维是链表，表示对应从设备的测点业务数据。如下图所示："
   ]
  },
  {
   "cell_type": "markdown",
   "id": "9f8e5314",
   "metadata": {},
   "source": [
    "![jupyter](./picture/3.png)"
   ]
  },
  {
   "cell_type": "markdown",
   "id": "a452380a",
   "metadata": {},
   "source": [
    "从设备业务数据结构如下："
   ]
  },
  {
   "cell_type": "code",
   "execution_count": null,
   "id": "187c836d",
   "metadata": {},
   "outputs": [],
   "source": [
    "// 北向设备链表\n",
    "typedef struct\n",
    "{\n",
    "    config_file_server_code_ied_t   device;                         // 从设备业务数据\n",
    "    UINT16                          code_chain_num;                 // 测点个数\n",
    "        // \"code\"\n",
    "        north_slave_code_chain_t        *north_slave_code_chain;    // 指向首个测点业务数据\n",
    "}north_slave_param_array_t;"
   ]
  },
  {
   "cell_type": "code",
   "execution_count": null,
   "id": "936c4f96",
   "metadata": {},
   "outputs": [],
   "source": [
    "typedef struct\n",
    "{\n",
    "        // \"IED\"\n",
    "        ied_t                           ied;                        // 对应文件\"IED\"层\n",
    "            // \"Para\"\n",
    "            config_file_server_code_param_t param;                  // ied的para\n",
    "}config_file_server_code_ied_t;"
   ]
  },
  {
   "cell_type": "code",
   "execution_count": null,
   "id": "d0b15252",
   "metadata": {},
   "outputs": [],
   "source": [
    "// 北向业务配置文件SERVER_CODE结构体\n",
    "typedef struct\n",
    "{\n",
    "    UINT8                   device_order;                           // 该从设备的上传顺序号，预留\n",
    "    UINT8                   protocol;                               // 协议索引号，用于方便下发控制，知道是什么协议\n",
    "    UINT16                  period;                                 // 该从设备的上报周期，预留\n",
    "    UINT8                   run_enable_flag;                        // 是否禁用\n",
    "    INT8                    product_key[PRODUCT_KEY_LEN+1];         // 三元组\n",
    "    INT8                    device_name[DEVICE_NAME_LEN+1];\n",
    "    INT8                    device_secret[DEVICE_SECRET_LEN+1];\n",
    "}config_file_server_code_param_t;"
   ]
  },
  {
   "cell_type": "markdown",
   "id": "d6f5634e",
   "metadata": {},
   "source": [
    "测点业务数据定义如下："
   ]
  },
  {
   "cell_type": "code",
   "execution_count": null,
   "id": "69297946",
   "metadata": {},
   "outputs": [],
   "source": [
    "typedef struct north_slave_code_chain_\n",
    "{\n",
    "    UINT16                          serial_number;                  // node序号\n",
    "    config_file_server_code_code_t  parameter;                      // 参数\n",
    "    float                           last_update_value;              // 上一次上报数据值\n",
    "    struct north_slave_code_chain_  *p_next;\n",
    "}north_slave_code_chain_t;"
   ]
  },
  {
   "cell_type": "code",
   "execution_count": null,
   "id": "210cafd3",
   "metadata": {},
   "outputs": [],
   "source": [
    "typedef struct\n",
    "{\n",
    "            // \"code\"\n",
    "            INT8                    identification[32+1];           // 测点标识符，上报唯一标识\n",
    "            UINT8                   alarm_flag;                     // 数据是否告警\n",
    "            float                   alarm_ceiling;                  // 告警上限\n",
    "            float                   alarm_floor;                    // 告警下限\n",
    "            UINT8                   burst_flag;                     // 数据是否变化上送\n",
    "            float                   deadzone;                       // 死区\n",
    "            INT8                    expression[32+1];               // 逻辑表达式\n",
    "            UINT16                  upload_data_type;               // 上送数据类型,用于采集与上送类型不一致的情况,数据类型定义同南向\n",
    "}config_file_server_code_code_t;"
   ]
  },
  {
   "cell_type": "markdown",
   "id": "a4d2abdc",
   "metadata": {},
   "source": [
    "## 6.不足和改进方法"
   ]
  },
  {
   "cell_type": "markdown",
   "id": "863ba129",
   "metadata": {},
   "source": [
    "1.链表操作相比数组增加了一些复杂度。"
   ]
  },
  {
   "cell_type": "markdown",
   "id": "1402bcf5",
   "metadata": {},
   "source": [
    "2.业务数据结构设计以阿里云物模型为基础，在对接新平台时可能需要调整。"
   ]
  }
 ],
 "metadata": {
  "kernelspec": {
   "display_name": "Python 3",
   "language": "python",
   "name": "python3"
  },
  "language_info": {
   "codemirror_mode": {
    "name": "ipython",
    "version": 3
   },
   "file_extension": ".py",
   "mimetype": "text/x-python",
   "name": "python",
   "nbconvert_exporter": "python",
   "pygments_lexer": "ipython3",
   "version": "3.8.8"
  }
 },
 "nbformat": 4,
 "nbformat_minor": 5
}
