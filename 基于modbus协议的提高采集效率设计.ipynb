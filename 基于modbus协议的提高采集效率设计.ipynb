{
 "cells": [
  {
   "cell_type": "markdown",
   "id": "349a01bb",
   "metadata": {},
   "source": [
    "# 基于modbus协议的自动组包设计"
   ]
  },
  {
   "cell_type": "markdown",
   "id": "2b9fab3a",
   "metadata": {},
   "source": [
    "## 1.目的"
   ]
  },
  {
   "cell_type": "markdown",
   "id": "5f2500b6",
   "metadata": {},
   "source": [
    "梳理软件设计，便于程序理解和维护。"
   ]
  },
  {
   "cell_type": "markdown",
   "id": "6fe5f81b",
   "metadata": {},
   "source": [
    "## 2.范围 "
   ]
  },
  {
   "cell_type": "markdown",
   "id": "19a704b0",
   "metadata": {},
   "source": [
    "  适用于modbus及同类工控协议。  "
   ]
  },
  {
   "cell_type": "markdown",
   "id": "5a7bb2cc",
   "metadata": {},
   "source": [
    "## 3.背景"
   ]
  },
  {
   "cell_type": "markdown",
   "id": "2dbde62d",
   "metadata": {},
   "source": [
    "modbus协议支持一次性读取多个线圈/寄存器。由于程序运行速度远快于外部通信，故可以采取一次交互读多个线圈/寄存器的方式提升采集效率。"
   ]
  },
  {
   "cell_type": "markdown",
   "id": "2cadc37a",
   "metadata": {},
   "source": [
    "## 4.总体设计"
   ]
  },
  {
   "cell_type": "markdown",
   "id": "0a988ab0",
   "metadata": {},
   "source": [
    "为了减少交互，提高采集效率；同时，不会因为查询的长度过长导致越界（超出有效线圈/寄存器范围）和过多内存占用。"
   ]
  },
  {
   "cell_type": "markdown",
   "id": "cec5ddf2",
   "metadata": {},
   "source": [
    "设定以下参数作为限制："
   ]
  },
  {
   "cell_type": "markdown",
   "id": "14054327",
   "metadata": {},
   "source": [
    "![jupyter](./picture/QQ图片20210805112808.png)"
   ]
  },
  {
   "cell_type": "markdown",
   "id": "c8b511fc",
   "metadata": {},
   "source": [
    "启动智能组包，会使用图上的配置参数。"
   ]
  },
  {
   "cell_type": "markdown",
   "id": "400c675a",
   "metadata": {},
   "source": [
    "组包位/字寄存器间隔代表相邻n个间隔之内的寄存器合并到一次交互中。位/字组包最大寄存器个数表示单次交互查询的最大寄存器个数。"
   ]
  },
  {
   "cell_type": "markdown",
   "id": "14a97c5e",
   "metadata": {},
   "source": [
    "## 5.详细设计"
   ]
  },
  {
   "cell_type": "markdown",
   "id": "d2836bc6",
   "metadata": {},
   "source": [
    "### 5.1 连续测点合并"
   ]
  },
  {
   "cell_type": "markdown",
   "id": "cc899ffb",
   "metadata": {},
   "source": [
    "#### 5.1.1 含义"
   ]
  },
  {
   "cell_type": "markdown",
   "id": "4c4b95f9",
   "metadata": {},
   "source": [
    "当组包位/字寄存器间隔为1时，表示合并地址相邻的寄存器，即连续测点合并的概念。"
   ]
  },
  {
   "cell_type": "markdown",
   "id": "685705ef",
   "metadata": {},
   "source": [
    "连续测点合并是最基本的提高采集效率方法。只要保证在组包最大寄存器个数内的所有测点都进行合并即可。如果连续测点个数超出组包最大寄存器个数，则分成多次交互。"
   ]
  },
  {
   "cell_type": "markdown",
   "id": "6741d574",
   "metadata": {},
   "source": [
    "#### 5.1.2 流程图"
   ]
  },
  {
   "cell_type": "markdown",
   "id": "295e029f",
   "metadata": {},
   "source": [
    "![jupyter](./picture/连续测点合并流程图.png)"
   ]
  },
  {
   "cell_type": "markdown",
   "id": "88b40014",
   "metadata": {},
   "source": [
    "#### 5.1.3 数据解析"
   ]
  },
  {
   "cell_type": "markdown",
   "id": "12889e0d",
   "metadata": {},
   "source": [
    "数据解析实际上是连续测点合并的逆过程。查询到前n个寄存器对应本次查询的第一个测点（n为本次查询的第一个测点的寄存器个数），从第n+1个寄存器开始的m个寄存器对应本次查询的第二个测点（m为本次查询的第二个测点的寄存器个数），以此类推。"
   ]
  },
  {
   "cell_type": "markdown",
   "id": "d1e35d77",
   "metadata": {},
   "source": [
    "### 5.2 短间隔连续测点合并"
   ]
  },
  {
   "cell_type": "markdown",
   "id": "e4d0128b",
   "metadata": {},
   "source": [
    "#### 5.2.1 含义"
   ]
  },
  {
   "cell_type": "markdown",
   "id": "fe39194d",
   "metadata": {},
   "source": [
    "当组包位/字寄存器间隔为n时，表示合并地址间隔为n以内的寄存器，即短间隔连续测点合并的概念。通过合理的设定n值，可以进一步提高modbus及同类工控协议的采集效率。"
   ]
  },
  {
   "cell_type": "markdown",
   "id": "c982c1fd",
   "metadata": {},
   "source": [
    "#### 5.2.2 流程图"
   ]
  },
  {
   "cell_type": "markdown",
   "id": "89e0c099",
   "metadata": {},
   "source": [
    "![jupyter](./picture/短间隔连续测点合并流程图.png)"
   ]
  },
  {
   "cell_type": "markdown",
   "id": "bb0efb1a",
   "metadata": {},
   "source": [
    "#### 5.2.3 数据解析"
   ]
  },
  {
   "cell_type": "markdown",
   "id": "e8a59a01",
   "metadata": {},
   "source": [
    "数据解析同样是测点合并的逆过程。首先用第一个测点的地址减去起始地址得到存放数据的寄存器相对地址，按照数据类型取出第一个测点数据；然后用第二个测点的地址减去起始地址得到存放数据的寄存器相对地址，按照数据类型取出第二个测点数据；以此类推。"
   ]
  },
  {
   "cell_type": "markdown",
   "id": "9016da07",
   "metadata": {},
   "source": [
    "## 6.不足和改进方法"
   ]
  },
  {
   "cell_type": "markdown",
   "id": "2bd7a293",
   "metadata": {},
   "source": [
    "1.所有测点要预先进行排序。按照先功能码，后地址由低到高的方式排列。"
   ]
  },
  {
   "cell_type": "markdown",
   "id": "35daf688",
   "metadata": {},
   "source": [
    "2.此方法在提高采集效率的同时，加大了程序设计、理解难度。"
   ]
  }
 ],
 "metadata": {
  "kernelspec": {
   "display_name": "Python 3",
   "language": "python",
   "name": "python3"
  },
  "language_info": {
   "codemirror_mode": {
    "name": "ipython",
    "version": 3
   },
   "file_extension": ".py",
   "mimetype": "text/x-python",
   "name": "python",
   "nbconvert_exporter": "python",
   "pygments_lexer": "ipython3",
   "version": "3.8.8"
  }
 },
 "nbformat": 4,
 "nbformat_minor": 5
}
