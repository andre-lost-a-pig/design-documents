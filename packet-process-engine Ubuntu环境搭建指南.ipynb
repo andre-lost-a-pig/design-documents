{
 "cells": [
  {
   "cell_type": "markdown",
   "metadata": {},
   "source": [
    "# packet-process-engine Ubuntu环境搭建指南"
   ]
  },
  {
   "cell_type": "markdown",
   "metadata": {},
   "source": [
    "## 1 三方库安装"
   ]
  },
  {
   "cell_type": "markdown",
   "metadata": {},
   "source": [
    "安装前更新数据源。命令如下："
   ]
  },
  {
   "cell_type": "code",
   "execution_count": null,
   "metadata": {
    "vscode": {
     "languageId": "shellscript"
    }
   },
   "outputs": [],
   "source": [
    "sudo apt-get update"
   ]
  },
  {
   "cell_type": "markdown",
   "metadata": {},
   "source": [
    "### 1.1 安装libpcap"
   ]
  },
  {
   "cell_type": "code",
   "execution_count": null,
   "metadata": {
    "vscode": {
     "languageId": "shellscript"
    }
   },
   "outputs": [],
   "source": [
    "sudo apt-get install libpcap-dev"
   ]
  },
  {
   "cell_type": "markdown",
   "metadata": {},
   "source": [
    "### 1.2 安装cmake,gcc,g++"
   ]
  },
  {
   "cell_type": "markdown",
   "metadata": {},
   "source": [
    "可以先检查上述库是否安装。命令如下："
   ]
  },
  {
   "cell_type": "code",
   "execution_count": null,
   "metadata": {
    "vscode": {
     "languageId": "shellscript"
    }
   },
   "outputs": [],
   "source": [
    "gcc -v\n",
    "g++ -v\n",
    "cmake -version"
   ]
  },
  {
   "cell_type": "markdown",
   "metadata": {},
   "source": [
    "如果已经部分安装，可以只安装剩余未安装的。如果都安装了，则跳过此步骤。安装命令如下："
   ]
  },
  {
   "cell_type": "code",
   "execution_count": null,
   "metadata": {
    "vscode": {
     "languageId": "shellscript"
    }
   },
   "outputs": [],
   "source": [
    "sudo apt install gcc\n",
    "sudo apt install g++\n",
    "sudo apt install cmake"
   ]
  },
  {
   "cell_type": "markdown",
   "metadata": {},
   "source": [
    "### 1.3 安装protobuf-compiler"
   ]
  },
  {
   "cell_type": "code",
   "execution_count": null,
   "metadata": {
    "vscode": {
     "languageId": "shellscript"
    }
   },
   "outputs": [],
   "source": [
    "sudo apt install protobuf-compiler"
   ]
  },
  {
   "cell_type": "markdown",
   "metadata": {},
   "source": [
    "### 1.4 安装redis"
   ]
  },
  {
   "cell_type": "code",
   "execution_count": null,
   "metadata": {
    "vscode": {
     "languageId": "shellscript"
    }
   },
   "outputs": [],
   "source": [
    "sudo apt install redis"
   ]
  },
  {
   "cell_type": "markdown",
   "metadata": {},
   "source": [
    "## 2 更新rust下载镜像"
   ]
  },
  {
   "cell_type": "markdown",
   "metadata": {},
   "source": [
    "进入当前user根目录，新建或更新config文件。命令如下："
   ]
  },
  {
   "cell_type": "code",
   "execution_count": null,
   "metadata": {
    "vscode": {
     "languageId": "shellscript"
    }
   },
   "outputs": [],
   "source": [
    "cd ~/.cargo\n",
    "sudo gedit config"
   ]
  },
  {
   "cell_type": "markdown",
   "metadata": {},
   "source": [
    "除了gedit，也可以使用vi、vim、nano等文本编辑器。"
   ]
  },
  {
   "cell_type": "markdown",
   "metadata": {},
   "source": [
    "更新config文件内容如下："
   ]
  },
  {
   "cell_type": "code",
   "execution_count": null,
   "metadata": {
    "vscode": {
     "languageId": "shellscript"
    }
   },
   "outputs": [],
   "source": [
    "[source.crates-io]\n",
    "registry=\"https://github.com/rust-lang/crates.io-index\"\n",
    "#指定镜像\n",
    "#如：tuna、sjtu、ustc，或者 rustcc\n",
    "replace-with='tuna'\n",
    "\n",
    "#注：以下源配置一个即可，无需全部\n",
    "\n",
    "#中国科学技术大学\n",
    "[source.ustc]\n",
    "registry=\"https://mirrors.ustc.edu.cn/crates.io-index\"\n",
    "\n",
    "#上海交通大学\n",
    "[source.sjtu]\n",
    "registry=\"https://mirrors.sjtug.sjtu.edu.cn/git/crates.io-index/\"\n",
    "\n",
    "#清华大学\n",
    "[source.tuna]\n",
    "registry=\"https://mirrors.tuna.tsinghua.edu.cn/git/crates.io-index.git\"\n",
    "\n",
    "#rustcc社区\n",
    "[source.rustcc]\n",
    "registry=\"https://code.aliyun.com/rustcc/crates.io-index.git\""
   ]
  },
  {
   "cell_type": "markdown",
   "metadata": {},
   "source": [
    "## 3 更新rust版本"
   ]
  },
  {
   "cell_type": "markdown",
   "metadata": {},
   "source": [
    "目前因开发需要使用nightly版本。修改方法如下："
   ]
  },
  {
   "cell_type": "code",
   "execution_count": null,
   "metadata": {
    "vscode": {
     "languageId": "shellscript"
    }
   },
   "outputs": [],
   "source": [
    "$ rustup update\n",
    "\n",
    "$ rustup self update\n",
    "\n",
    "# 安装不稳定版本\n",
    "$ rustup install nightly\n",
    "# 查询版本\n",
    "$ rustup run nightly rustc --version\n",
    "\n",
    "# Rust 存在三种版本\n",
    "#   stable: 稳定版本\n",
    "#   beta: 开发版本\n",
    "#   nightly: 每日构建版本\n",
    "# 设置默认版本\n",
    "$ rustup default nightly"
   ]
  }
 ],
 "metadata": {
  "language_info": {
   "name": "python"
  },
  "orig_nbformat": 4
 },
 "nbformat": 4,
 "nbformat_minor": 2
}
